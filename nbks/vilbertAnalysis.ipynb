{
 "cells": [
  {
   "cell_type": "code",
   "execution_count": 29,
   "id": "40862171-4879-4ef2-a0ab-fc23be5e890d",
   "metadata": {},
   "outputs": [
    {
     "ename": "ModuleNotFoundError",
     "evalue": "No module named 'mpimg'",
     "output_type": "error",
     "traceback": [
      "\u001b[0;31m---------------------------------------------------------------------------\u001b[0m",
      "\u001b[0;31mModuleNotFoundError\u001b[0m                       Traceback (most recent call last)",
      "\u001b[0;32m/var/folders/xy/2z6j8_z52qj6bg5mv10vnlwm0000gn/T/ipykernel_74378/1949289462.py\u001b[0m in \u001b[0;36m<module>\u001b[0;34m\u001b[0m\n\u001b[1;32m      6\u001b[0m \u001b[0;32mimport\u001b[0m \u001b[0mmatplotlib\u001b[0m\u001b[0;34m.\u001b[0m\u001b[0mpyplot\u001b[0m \u001b[0;32mas\u001b[0m \u001b[0mplt\u001b[0m\u001b[0;34m\u001b[0m\u001b[0;34m\u001b[0m\u001b[0m\n\u001b[1;32m      7\u001b[0m \u001b[0;32mfrom\u001b[0m \u001b[0mipywidgets\u001b[0m \u001b[0;32mimport\u001b[0m \u001b[0minteract\u001b[0m\u001b[0;34m\u001b[0m\u001b[0;34m\u001b[0m\u001b[0m\n\u001b[0;32m----> 8\u001b[0;31m \u001b[0;32mimport\u001b[0m \u001b[0mmpimg\u001b[0m\u001b[0;34m\u001b[0m\u001b[0;34m\u001b[0m\u001b[0m\n\u001b[0m",
      "\u001b[0;31mModuleNotFoundError\u001b[0m: No module named 'mpimg'"
     ]
    }
   ],
   "source": [
    "import pandas as pd\n",
    "import json\n",
    "import os\n",
    "import ipywidgets as widgets\n",
    "%matplotlib inline\n",
    "import matplotlib.pyplot as plt\n",
    "from ipywidgets import interact\n",
    "import mpimg"
   ]
  },
  {
   "cell_type": "code",
   "execution_count": 2,
   "id": "b81f448a-b815-43bd-955c-88052aaa4a21",
   "metadata": {},
   "outputs": [],
   "source": [
    "DATA_PATH = '../data/'"
   ]
  },
  {
   "cell_type": "code",
   "execution_count": 3,
   "id": "87cf637c-6acf-4a74-9ed8-1e8dce8efb2e",
   "metadata": {},
   "outputs": [],
   "source": [
    "df = pd.read_json(DATA_PATH + 'minval_result.json')"
   ]
  },
  {
   "cell_type": "code",
   "execution_count": 4,
   "id": "020c37a6-1754-450e-bcc6-59bfc3b81d1a",
   "metadata": {},
   "outputs": [],
   "source": [
    "jsAnnotations = json.load(open('../data/v2_mscoco_val2014_annotations.json'))"
   ]
  },
  {
   "cell_type": "code",
   "execution_count": 5,
   "id": "d13f090c-401a-4ceb-9b8e-03e804f88073",
   "metadata": {},
   "outputs": [
    {
     "name": "stdout",
     "output_type": "stream",
     "text": [
      "['down', 'down', 'at table', 'skateboard', 'down', 'table', 'down', 'down', 'down', 'down'] down\n"
     ]
    }
   ],
   "source": [
    "def most_frequent(List):\n",
    "    return max(set(List), key = List.count)\n",
    "\n",
    "\n",
    "answerList = []\n",
    "for entry in jsAnnotations['annotations'][0]['answers']:\n",
    "    answerList.append(entry['answer'])\n",
    "print(answerList, most_frequent(answerList))"
   ]
  },
  {
   "cell_type": "code",
   "execution_count": 6,
   "id": "bc4bd4cf-f8ef-4f66-b792-c9740ff4b273",
   "metadata": {},
   "outputs": [],
   "source": [
    "questionsJs = json.load(open('../data/v2_OpenEnded_mscoco_val2014_questions.json'))"
   ]
  },
  {
   "cell_type": "code",
   "execution_count": 7,
   "id": "b8de76b3-143a-49f8-bd69-7e239360f3f7",
   "metadata": {},
   "outputs": [],
   "source": [
    "# Create a mapping from question ID to question\n",
    "\n",
    "quesIdToQues = {}\n",
    "for item in questionsJs['questions']:\n",
    "    quesIdToQues[item['question_id']] = item['question']\n"
   ]
  },
  {
   "cell_type": "code",
   "execution_count": 8,
   "id": "ee254d3f-45fd-46d3-9f68-3de9f7aab898",
   "metadata": {},
   "outputs": [],
   "source": [
    "jsCaptions = json.load(open('../data/captions_val2014.json'))"
   ]
  },
  {
   "cell_type": "code",
   "execution_count": 10,
   "id": "179cd64b-2e81-4f25-b3ae-dc2601f8e4f5",
   "metadata": {},
   "outputs": [],
   "source": [
    "# Create a mapping from image ID to image path \n",
    "\n",
    "imagedIdtoPath = {}\n",
    "\n",
    "for item in jsCaptions['images']: \n",
    "    imagedIdtoPath[item['id']] = '/Users/saaket/Downloads/val2014/' + item['file_name']\n",
    "    "
   ]
  },
  {
   "cell_type": "code",
   "execution_count": 11,
   "id": "b1e25486-bb1e-4a5c-ae76-355b35c9ef3c",
   "metadata": {},
   "outputs": [],
   "source": [
    "gtDict = {\n",
    "    'question_id': [],\n",
    "    'question': [],\n",
    "    'answer_type': [],\n",
    "    'answers': [],\n",
    "    'freqAns': [],\n",
    "    'imagePath': [],\n",
    "}"
   ]
  },
  {
   "cell_type": "code",
   "execution_count": 13,
   "id": "4ba9dd59-bf70-4d45-943e-b91906c5dfed",
   "metadata": {},
   "outputs": [],
   "source": [
    "for item in jsAnnotations['annotations']:\n",
    "    gtDict['question_id'].append(item['question_id'])\n",
    "    gtDict['answer_type'].append(item['answer_type'])\n",
    "    answerList = []\n",
    "    for entry in item['answers']:\n",
    "        answerList.append(entry['answer'])\n",
    "    gtDict['answers'].append(answerList)\n",
    "    gtDict['freqAns'].append(most_frequent(answerList))\n",
    "    gtDict['question'].append(quesIdToQues[item['question_id']])\n",
    "    gtDict['imagePath'].append(imagedIdtoPath[item['image_id']])"
   ]
  },
  {
   "cell_type": "code",
   "execution_count": 14,
   "id": "54334837-2fb3-4fd4-b904-c27d0f6b132e",
   "metadata": {},
   "outputs": [],
   "source": [
    "dfGt = pd.DataFrame(gtDict)"
   ]
  },
  {
   "cell_type": "code",
   "execution_count": 15,
   "id": "406e101a-cbe2-43c5-98a4-ee26ef3dc067",
   "metadata": {},
   "outputs": [
    {
     "data": {
      "text/html": [
       "<div>\n",
       "<style scoped>\n",
       "    .dataframe tbody tr th:only-of-type {\n",
       "        vertical-align: middle;\n",
       "    }\n",
       "\n",
       "    .dataframe tbody tr th {\n",
       "        vertical-align: top;\n",
       "    }\n",
       "\n",
       "    .dataframe thead th {\n",
       "        text-align: right;\n",
       "    }\n",
       "</style>\n",
       "<table border=\"1\" class=\"dataframe\">\n",
       "  <thead>\n",
       "    <tr style=\"text-align: right;\">\n",
       "      <th></th>\n",
       "      <th>question_id</th>\n",
       "      <th>question</th>\n",
       "      <th>answer_type</th>\n",
       "      <th>answers</th>\n",
       "      <th>freqAns</th>\n",
       "      <th>imagePath</th>\n",
       "    </tr>\n",
       "  </thead>\n",
       "  <tbody>\n",
       "    <tr>\n",
       "      <th>0</th>\n",
       "      <td>262148000</td>\n",
       "      <td>Where is he looking?</td>\n",
       "      <td>other</td>\n",
       "      <td>[down, down, at table, skateboard, down, table...</td>\n",
       "      <td>down</td>\n",
       "      <td>/Users/saaket/Downloads/val2014/COCO_val2014_0...</td>\n",
       "    </tr>\n",
       "    <tr>\n",
       "      <th>1</th>\n",
       "      <td>262148001</td>\n",
       "      <td>What are the people in the background doing?</td>\n",
       "      <td>other</td>\n",
       "      <td>[spectating, watching, watching, watching, wat...</td>\n",
       "      <td>watching</td>\n",
       "      <td>/Users/saaket/Downloads/val2014/COCO_val2014_0...</td>\n",
       "    </tr>\n",
       "    <tr>\n",
       "      <th>2</th>\n",
       "      <td>262148002</td>\n",
       "      <td>What is he on top of?</td>\n",
       "      <td>other</td>\n",
       "      <td>[table, table, table, picnic table, picnic tab...</td>\n",
       "      <td>picnic table</td>\n",
       "      <td>/Users/saaket/Downloads/val2014/COCO_val2014_0...</td>\n",
       "    </tr>\n",
       "    <tr>\n",
       "      <th>3</th>\n",
       "      <td>393225000</td>\n",
       "      <td>What website copyrighted the picture?</td>\n",
       "      <td>other</td>\n",
       "      <td>[foodiebakercom, foodiebakercom, foodiebaker, ...</td>\n",
       "      <td>foodiebakercom</td>\n",
       "      <td>/Users/saaket/Downloads/val2014/COCO_val2014_0...</td>\n",
       "    </tr>\n",
       "    <tr>\n",
       "      <th>4</th>\n",
       "      <td>393225001</td>\n",
       "      <td>Is this a creamy soup?</td>\n",
       "      <td>yes/no</td>\n",
       "      <td>[no, no, no, no, no, no, no, no, no, no]</td>\n",
       "      <td>no</td>\n",
       "      <td>/Users/saaket/Downloads/val2014/COCO_val2014_0...</td>\n",
       "    </tr>\n",
       "  </tbody>\n",
       "</table>\n",
       "</div>"
      ],
      "text/plain": [
       "   question_id                                      question answer_type  \\\n",
       "0    262148000                          Where is he looking?       other   \n",
       "1    262148001  What are the people in the background doing?       other   \n",
       "2    262148002                         What is he on top of?       other   \n",
       "3    393225000         What website copyrighted the picture?       other   \n",
       "4    393225001                        Is this a creamy soup?      yes/no   \n",
       "\n",
       "                                             answers         freqAns  \\\n",
       "0  [down, down, at table, skateboard, down, table...            down   \n",
       "1  [spectating, watching, watching, watching, wat...        watching   \n",
       "2  [table, table, table, picnic table, picnic tab...    picnic table   \n",
       "3  [foodiebakercom, foodiebakercom, foodiebaker, ...  foodiebakercom   \n",
       "4           [no, no, no, no, no, no, no, no, no, no]              no   \n",
       "\n",
       "                                           imagePath  \n",
       "0  /Users/saaket/Downloads/val2014/COCO_val2014_0...  \n",
       "1  /Users/saaket/Downloads/val2014/COCO_val2014_0...  \n",
       "2  /Users/saaket/Downloads/val2014/COCO_val2014_0...  \n",
       "3  /Users/saaket/Downloads/val2014/COCO_val2014_0...  \n",
       "4  /Users/saaket/Downloads/val2014/COCO_val2014_0...  "
      ]
     },
     "execution_count": 15,
     "metadata": {},
     "output_type": "execute_result"
    }
   ],
   "source": [
    "dfGt.head()"
   ]
  },
  {
   "cell_type": "code",
   "execution_count": 16,
   "id": "037be1ef-5962-4fc1-969a-5f4b6a9e8070",
   "metadata": {},
   "outputs": [],
   "source": [
    "df_new = df.merge(dfGt, how='inner', on='question_id')"
   ]
  },
  {
   "cell_type": "code",
   "execution_count": 17,
   "id": "348e2ba8-d2ca-4227-b601-2642108a26e3",
   "metadata": {},
   "outputs": [
    {
     "data": {
      "text/html": [
       "<div>\n",
       "<style scoped>\n",
       "    .dataframe tbody tr th:only-of-type {\n",
       "        vertical-align: middle;\n",
       "    }\n",
       "\n",
       "    .dataframe tbody tr th {\n",
       "        vertical-align: top;\n",
       "    }\n",
       "\n",
       "    .dataframe thead th {\n",
       "        text-align: right;\n",
       "    }\n",
       "</style>\n",
       "<table border=\"1\" class=\"dataframe\">\n",
       "  <thead>\n",
       "    <tr style=\"text-align: right;\">\n",
       "      <th></th>\n",
       "      <th>question_id</th>\n",
       "      <th>answer</th>\n",
       "      <th>question</th>\n",
       "      <th>answer_type</th>\n",
       "      <th>answers</th>\n",
       "      <th>freqAns</th>\n",
       "      <th>imagePath</th>\n",
       "    </tr>\n",
       "  </thead>\n",
       "  <tbody>\n",
       "    <tr>\n",
       "      <th>0</th>\n",
       "      <td>573843005</td>\n",
       "      <td>no</td>\n",
       "      <td>Are there clouds?</td>\n",
       "      <td>yes/no</td>\n",
       "      <td>[yes, yes, no, yes, yes, yes, yes, yes, yes, yes]</td>\n",
       "      <td>yes</td>\n",
       "      <td>/Users/saaket/Downloads/val2014/COCO_val2014_0...</td>\n",
       "    </tr>\n",
       "    <tr>\n",
       "      <th>1</th>\n",
       "      <td>573843006</td>\n",
       "      <td>yes</td>\n",
       "      <td>Are there trees in the photo?</td>\n",
       "      <td>yes/no</td>\n",
       "      <td>[yes, yes, yes, yes, 8, yes, yes, yes, yes, yes]</td>\n",
       "      <td>yes</td>\n",
       "      <td>/Users/saaket/Downloads/val2014/COCO_val2014_0...</td>\n",
       "    </tr>\n",
       "    <tr>\n",
       "      <th>2</th>\n",
       "      <td>573853000</td>\n",
       "      <td>no</td>\n",
       "      <td>Is the pizza deep dish?</td>\n",
       "      <td>yes/no</td>\n",
       "      <td>[no, yes, yes, yes, yes, yes, yes, no, yes, yes]</td>\n",
       "      <td>yes</td>\n",
       "      <td>/Users/saaket/Downloads/val2014/COCO_val2014_0...</td>\n",
       "    </tr>\n",
       "    <tr>\n",
       "      <th>3</th>\n",
       "      <td>573853001</td>\n",
       "      <td>mozzarella</td>\n",
       "      <td>What kind of cheese is on the pizza?</td>\n",
       "      <td>other</td>\n",
       "      <td>[feta, mozzarella, parmesan, ricotta, mozzarel...</td>\n",
       "      <td>mozzarella</td>\n",
       "      <td>/Users/saaket/Downloads/val2014/COCO_val2014_0...</td>\n",
       "    </tr>\n",
       "    <tr>\n",
       "      <th>4</th>\n",
       "      <td>573853002</td>\n",
       "      <td>yes</td>\n",
       "      <td>Is this pizza already cooked?</td>\n",
       "      <td>yes/no</td>\n",
       "      <td>[yes, yes, yes, yes, yes, yes, yes, yes, yes, ...</td>\n",
       "      <td>yes</td>\n",
       "      <td>/Users/saaket/Downloads/val2014/COCO_val2014_0...</td>\n",
       "    </tr>\n",
       "    <tr>\n",
       "      <th>...</th>\n",
       "      <td>...</td>\n",
       "      <td>...</td>\n",
       "      <td>...</td>\n",
       "      <td>...</td>\n",
       "      <td>...</td>\n",
       "      <td>...</td>\n",
       "      <td>...</td>\n",
       "    </tr>\n",
       "    <tr>\n",
       "      <th>2995</th>\n",
       "      <td>581929001</td>\n",
       "      <td>eating</td>\n",
       "      <td>What is the front horse doing?</td>\n",
       "      <td>other</td>\n",
       "      <td>[grazing, eating, grazing, grazing, eating, ea...</td>\n",
       "      <td>grazing</td>\n",
       "      <td>/Users/saaket/Downloads/val2014/COCO_val2014_0...</td>\n",
       "    </tr>\n",
       "    <tr>\n",
       "      <th>2996</th>\n",
       "      <td>581929002</td>\n",
       "      <td>green</td>\n",
       "      <td>What color is the grass?</td>\n",
       "      <td>other</td>\n",
       "      <td>[green, green, green, green, green, green, gre...</td>\n",
       "      <td>green</td>\n",
       "      <td>/Users/saaket/Downloads/val2014/COCO_val2014_0...</td>\n",
       "    </tr>\n",
       "    <tr>\n",
       "      <th>2997</th>\n",
       "      <td>581929003</td>\n",
       "      <td>yes</td>\n",
       "      <td>Are the horses facing the same way?</td>\n",
       "      <td>yes/no</td>\n",
       "      <td>[no, no, no, no, no, no, no, no, no, no]</td>\n",
       "      <td>no</td>\n",
       "      <td>/Users/saaket/Downloads/val2014/COCO_val2014_0...</td>\n",
       "    </tr>\n",
       "    <tr>\n",
       "      <th>2998</th>\n",
       "      <td>581929004</td>\n",
       "      <td>2013</td>\n",
       "      <td>What is the copyright year shown in the photo?</td>\n",
       "      <td>number</td>\n",
       "      <td>[2012, 2012, 2012, 2012, 2012, 2012, 2012, 201...</td>\n",
       "      <td>2012</td>\n",
       "      <td>/Users/saaket/Downloads/val2014/COCO_val2014_0...</td>\n",
       "    </tr>\n",
       "    <tr>\n",
       "      <th>2999</th>\n",
       "      <td>581929005</td>\n",
       "      <td>brown</td>\n",
       "      <td>What colors are the animal?</td>\n",
       "      <td>other</td>\n",
       "      <td>[brown, white, brown, brown and white, brown, ...</td>\n",
       "      <td>brown</td>\n",
       "      <td>/Users/saaket/Downloads/val2014/COCO_val2014_0...</td>\n",
       "    </tr>\n",
       "  </tbody>\n",
       "</table>\n",
       "<p>3000 rows × 7 columns</p>\n",
       "</div>"
      ],
      "text/plain": [
       "      question_id      answer                                        question  \\\n",
       "0       573843005          no                               Are there clouds?   \n",
       "1       573843006         yes                   Are there trees in the photo?   \n",
       "2       573853000          no                         Is the pizza deep dish?   \n",
       "3       573853001  mozzarella            What kind of cheese is on the pizza?   \n",
       "4       573853002         yes                   Is this pizza already cooked?   \n",
       "...           ...         ...                                             ...   \n",
       "2995    581929001      eating                  What is the front horse doing?   \n",
       "2996    581929002       green                        What color is the grass?   \n",
       "2997    581929003         yes             Are the horses facing the same way?   \n",
       "2998    581929004        2013  What is the copyright year shown in the photo?   \n",
       "2999    581929005       brown                     What colors are the animal?   \n",
       "\n",
       "     answer_type                                            answers  \\\n",
       "0         yes/no  [yes, yes, no, yes, yes, yes, yes, yes, yes, yes]   \n",
       "1         yes/no   [yes, yes, yes, yes, 8, yes, yes, yes, yes, yes]   \n",
       "2         yes/no   [no, yes, yes, yes, yes, yes, yes, no, yes, yes]   \n",
       "3          other  [feta, mozzarella, parmesan, ricotta, mozzarel...   \n",
       "4         yes/no  [yes, yes, yes, yes, yes, yes, yes, yes, yes, ...   \n",
       "...          ...                                                ...   \n",
       "2995       other  [grazing, eating, grazing, grazing, eating, ea...   \n",
       "2996       other  [green, green, green, green, green, green, gre...   \n",
       "2997      yes/no           [no, no, no, no, no, no, no, no, no, no]   \n",
       "2998      number  [2012, 2012, 2012, 2012, 2012, 2012, 2012, 201...   \n",
       "2999       other  [brown, white, brown, brown and white, brown, ...   \n",
       "\n",
       "         freqAns                                          imagePath  \n",
       "0            yes  /Users/saaket/Downloads/val2014/COCO_val2014_0...  \n",
       "1            yes  /Users/saaket/Downloads/val2014/COCO_val2014_0...  \n",
       "2            yes  /Users/saaket/Downloads/val2014/COCO_val2014_0...  \n",
       "3     mozzarella  /Users/saaket/Downloads/val2014/COCO_val2014_0...  \n",
       "4            yes  /Users/saaket/Downloads/val2014/COCO_val2014_0...  \n",
       "...          ...                                                ...  \n",
       "2995     grazing  /Users/saaket/Downloads/val2014/COCO_val2014_0...  \n",
       "2996       green  /Users/saaket/Downloads/val2014/COCO_val2014_0...  \n",
       "2997          no  /Users/saaket/Downloads/val2014/COCO_val2014_0...  \n",
       "2998        2012  /Users/saaket/Downloads/val2014/COCO_val2014_0...  \n",
       "2999       brown  /Users/saaket/Downloads/val2014/COCO_val2014_0...  \n",
       "\n",
       "[3000 rows x 7 columns]"
      ]
     },
     "execution_count": 17,
     "metadata": {},
     "output_type": "execute_result"
    }
   ],
   "source": [
    "df_new"
   ]
  },
  {
   "cell_type": "code",
   "execution_count": null,
   "id": "94841164-5929-4d2a-af06-5889deaa5778",
   "metadata": {},
   "outputs": [],
   "source": []
  },
  {
   "cell_type": "code",
   "execution_count": 40,
   "id": "b8a36db8-c296-4803-be62-9259f41fd7dd",
   "metadata": {},
   "outputs": [],
   "source": [
    "dfNumbers = df_new[df_new['answer_type'] == 'number']"
   ]
  },
  {
   "cell_type": "code",
   "execution_count": 18,
   "id": "ec3c9af4-979e-4396-8d0d-9577135c3be4",
   "metadata": {},
   "outputs": [],
   "source": [
    "dfYesNo = df_new[df_new['answer_type'] == 'yes/no']"
   ]
  },
  {
   "cell_type": "code",
   "execution_count": 42,
   "id": "51678beb-46ff-40e5-8b04-b8e94c900ff7",
   "metadata": {},
   "outputs": [],
   "source": [
    "dfOther = df_new[df_new['answer_type'] == 'other']"
   ]
  },
  {
   "cell_type": "code",
   "execution_count": 19,
   "id": "7576e35f-c3ec-41fd-860a-443f0df1a523",
   "metadata": {},
   "outputs": [
    {
     "data": {
      "text/html": [
       "<div>\n",
       "<style scoped>\n",
       "    .dataframe tbody tr th:only-of-type {\n",
       "        vertical-align: middle;\n",
       "    }\n",
       "\n",
       "    .dataframe tbody tr th {\n",
       "        vertical-align: top;\n",
       "    }\n",
       "\n",
       "    .dataframe thead th {\n",
       "        text-align: right;\n",
       "    }\n",
       "</style>\n",
       "<table border=\"1\" class=\"dataframe\">\n",
       "  <thead>\n",
       "    <tr style=\"text-align: right;\">\n",
       "      <th></th>\n",
       "      <th>question_id</th>\n",
       "      <th>answer</th>\n",
       "      <th>question</th>\n",
       "      <th>answer_type</th>\n",
       "      <th>answers</th>\n",
       "      <th>freqAns</th>\n",
       "      <th>imagePath</th>\n",
       "    </tr>\n",
       "  </thead>\n",
       "  <tbody>\n",
       "    <tr>\n",
       "      <th>0</th>\n",
       "      <td>573843005</td>\n",
       "      <td>no</td>\n",
       "      <td>Are there clouds?</td>\n",
       "      <td>yes/no</td>\n",
       "      <td>[yes, yes, no, yes, yes, yes, yes, yes, yes, yes]</td>\n",
       "      <td>yes</td>\n",
       "      <td>/Users/saaket/Downloads/val2014/COCO_val2014_0...</td>\n",
       "    </tr>\n",
       "    <tr>\n",
       "      <th>1</th>\n",
       "      <td>573843006</td>\n",
       "      <td>yes</td>\n",
       "      <td>Are there trees in the photo?</td>\n",
       "      <td>yes/no</td>\n",
       "      <td>[yes, yes, yes, yes, 8, yes, yes, yes, yes, yes]</td>\n",
       "      <td>yes</td>\n",
       "      <td>/Users/saaket/Downloads/val2014/COCO_val2014_0...</td>\n",
       "    </tr>\n",
       "    <tr>\n",
       "      <th>2</th>\n",
       "      <td>573853000</td>\n",
       "      <td>no</td>\n",
       "      <td>Is the pizza deep dish?</td>\n",
       "      <td>yes/no</td>\n",
       "      <td>[no, yes, yes, yes, yes, yes, yes, no, yes, yes]</td>\n",
       "      <td>yes</td>\n",
       "      <td>/Users/saaket/Downloads/val2014/COCO_val2014_0...</td>\n",
       "    </tr>\n",
       "    <tr>\n",
       "      <th>4</th>\n",
       "      <td>573853002</td>\n",
       "      <td>yes</td>\n",
       "      <td>Is this pizza already cooked?</td>\n",
       "      <td>yes/no</td>\n",
       "      <td>[yes, yes, yes, yes, yes, yes, yes, yes, yes, ...</td>\n",
       "      <td>yes</td>\n",
       "      <td>/Users/saaket/Downloads/val2014/COCO_val2014_0...</td>\n",
       "    </tr>\n",
       "    <tr>\n",
       "      <th>5</th>\n",
       "      <td>573853003</td>\n",
       "      <td>yes</td>\n",
       "      <td>Do you see a serving knife?</td>\n",
       "      <td>yes/no</td>\n",
       "      <td>[no, yes, yes, yes, no, yes, no, no, yes, no]</td>\n",
       "      <td>yes</td>\n",
       "      <td>/Users/saaket/Downloads/val2014/COCO_val2014_0...</td>\n",
       "    </tr>\n",
       "    <tr>\n",
       "      <th>...</th>\n",
       "      <td>...</td>\n",
       "      <td>...</td>\n",
       "      <td>...</td>\n",
       "      <td>...</td>\n",
       "      <td>...</td>\n",
       "      <td>...</td>\n",
       "      <td>...</td>\n",
       "    </tr>\n",
       "    <tr>\n",
       "      <th>2979</th>\n",
       "      <td>581887003</td>\n",
       "      <td>yes</td>\n",
       "      <td>Is it cloudy?</td>\n",
       "      <td>yes/no</td>\n",
       "      <td>[yes, yes, yes, yes, yes, yes, yes, yes, yes, ...</td>\n",
       "      <td>yes</td>\n",
       "      <td>/Users/saaket/Downloads/val2014/COCO_val2014_0...</td>\n",
       "    </tr>\n",
       "    <tr>\n",
       "      <th>2982</th>\n",
       "      <td>581899002</td>\n",
       "      <td>yes</td>\n",
       "      <td>Are these passenger trains?</td>\n",
       "      <td>yes/no</td>\n",
       "      <td>[yes, yes, yes, yes, yes, yes, yes, yes, yes, ...</td>\n",
       "      <td>yes</td>\n",
       "      <td>/Users/saaket/Downloads/val2014/COCO_val2014_0...</td>\n",
       "    </tr>\n",
       "    <tr>\n",
       "      <th>2983</th>\n",
       "      <td>581913000</td>\n",
       "      <td>no</td>\n",
       "      <td>Are all of these donuts the same?</td>\n",
       "      <td>yes/no</td>\n",
       "      <td>[no, no, no, no, no, no, no, no, no, no]</td>\n",
       "      <td>no</td>\n",
       "      <td>/Users/saaket/Downloads/val2014/COCO_val2014_0...</td>\n",
       "    </tr>\n",
       "    <tr>\n",
       "      <th>2991</th>\n",
       "      <td>581913008</td>\n",
       "      <td>yes</td>\n",
       "      <td>Do any donuts contain sprinkles?</td>\n",
       "      <td>yes/no</td>\n",
       "      <td>[yes, yes, just one, yes, yes, yes, yes, yes, ...</td>\n",
       "      <td>yes</td>\n",
       "      <td>/Users/saaket/Downloads/val2014/COCO_val2014_0...</td>\n",
       "    </tr>\n",
       "    <tr>\n",
       "      <th>2997</th>\n",
       "      <td>581929003</td>\n",
       "      <td>yes</td>\n",
       "      <td>Are the horses facing the same way?</td>\n",
       "      <td>yes/no</td>\n",
       "      <td>[no, no, no, no, no, no, no, no, no, no]</td>\n",
       "      <td>no</td>\n",
       "      <td>/Users/saaket/Downloads/val2014/COCO_val2014_0...</td>\n",
       "    </tr>\n",
       "  </tbody>\n",
       "</table>\n",
       "<p>1092 rows × 7 columns</p>\n",
       "</div>"
      ],
      "text/plain": [
       "      question_id answer                             question answer_type  \\\n",
       "0       573843005     no                    Are there clouds?      yes/no   \n",
       "1       573843006    yes        Are there trees in the photo?      yes/no   \n",
       "2       573853000     no              Is the pizza deep dish?      yes/no   \n",
       "4       573853002    yes        Is this pizza already cooked?      yes/no   \n",
       "5       573853003    yes          Do you see a serving knife?      yes/no   \n",
       "...           ...    ...                                  ...         ...   \n",
       "2979    581887003    yes                        Is it cloudy?      yes/no   \n",
       "2982    581899002    yes          Are these passenger trains?      yes/no   \n",
       "2983    581913000     no    Are all of these donuts the same?      yes/no   \n",
       "2991    581913008    yes     Do any donuts contain sprinkles?      yes/no   \n",
       "2997    581929003    yes  Are the horses facing the same way?      yes/no   \n",
       "\n",
       "                                                answers freqAns  \\\n",
       "0     [yes, yes, no, yes, yes, yes, yes, yes, yes, yes]     yes   \n",
       "1      [yes, yes, yes, yes, 8, yes, yes, yes, yes, yes]     yes   \n",
       "2      [no, yes, yes, yes, yes, yes, yes, no, yes, yes]     yes   \n",
       "4     [yes, yes, yes, yes, yes, yes, yes, yes, yes, ...     yes   \n",
       "5         [no, yes, yes, yes, no, yes, no, no, yes, no]     yes   \n",
       "...                                                 ...     ...   \n",
       "2979  [yes, yes, yes, yes, yes, yes, yes, yes, yes, ...     yes   \n",
       "2982  [yes, yes, yes, yes, yes, yes, yes, yes, yes, ...     yes   \n",
       "2983           [no, no, no, no, no, no, no, no, no, no]      no   \n",
       "2991  [yes, yes, just one, yes, yes, yes, yes, yes, ...     yes   \n",
       "2997           [no, no, no, no, no, no, no, no, no, no]      no   \n",
       "\n",
       "                                              imagePath  \n",
       "0     /Users/saaket/Downloads/val2014/COCO_val2014_0...  \n",
       "1     /Users/saaket/Downloads/val2014/COCO_val2014_0...  \n",
       "2     /Users/saaket/Downloads/val2014/COCO_val2014_0...  \n",
       "4     /Users/saaket/Downloads/val2014/COCO_val2014_0...  \n",
       "5     /Users/saaket/Downloads/val2014/COCO_val2014_0...  \n",
       "...                                                 ...  \n",
       "2979  /Users/saaket/Downloads/val2014/COCO_val2014_0...  \n",
       "2982  /Users/saaket/Downloads/val2014/COCO_val2014_0...  \n",
       "2983  /Users/saaket/Downloads/val2014/COCO_val2014_0...  \n",
       "2991  /Users/saaket/Downloads/val2014/COCO_val2014_0...  \n",
       "2997  /Users/saaket/Downloads/val2014/COCO_val2014_0...  \n",
       "\n",
       "[1092 rows x 7 columns]"
      ]
     },
     "execution_count": 19,
     "metadata": {},
     "output_type": "execute_result"
    }
   ],
   "source": [
    "dfYesNo"
   ]
  },
  {
   "cell_type": "code",
   "execution_count": 24,
   "id": "1223217d-3523-4be7-abd8-850e8f49ae3b",
   "metadata": {},
   "outputs": [],
   "source": [
    "dfYesNoMiss = dfYesNo[dfYesNo['answer'] != dfYesNo['freqAns']]"
   ]
  },
  {
   "cell_type": "code",
   "execution_count": 25,
   "id": "7a370fa6-5f01-49ff-a6e7-ff69fcc8a135",
   "metadata": {},
   "outputs": [
    {
     "data": {
      "text/plain": [
       "274"
      ]
     },
     "execution_count": 25,
     "metadata": {},
     "output_type": "execute_result"
    }
   ],
   "source": [
    "len(dfYesNoMiss)"
   ]
  },
  {
   "cell_type": "code",
   "execution_count": 4,
   "id": "f16587eb-981b-4de6-ac5f-700f5ad3a5c6",
   "metadata": {},
   "outputs": [],
   "source": [
    "files = os.listdir('/Users/saaket/Downloads/val2014/')"
   ]
  },
  {
   "cell_type": "code",
   "execution_count": 37,
   "id": "2efbef73-78e6-42cf-9bf8-1baa97d72470",
   "metadata": {},
   "outputs": [
    {
     "data": {
      "text/plain": [
       "'/Users/saaket/Downloads/val2014/COCO_val2014_000000573853.jpg'"
      ]
     },
     "execution_count": 37,
     "metadata": {},
     "output_type": "execute_result"
    }
   ],
   "source": [
    "dfYesNoMiss['imagePath'].iloc[1]"
   ]
  },
  {
   "cell_type": "code",
   "execution_count": 42,
   "id": "7fd69186-2578-4b2a-b5fe-d54ade21f577",
   "metadata": {},
   "outputs": [],
   "source": [
    "def browse_images(dfYesNoMiss):\n",
    "    n = len(dfYesNoMiss)\n",
    "    def view_image(i):\n",
    "        img = plt.imread(dfYesNoMiss['imagePath'].iloc[i])\n",
    "        plt.imshow(img)\n",
    "        plt.title(dfYesNoMiss['question'].iloc[i])\n",
    "        plt.show()\n",
    "    interact(view_image, i=(0,n-1))"
   ]
  },
  {
   "cell_type": "code",
   "execution_count": 43,
   "id": "96b172a9-4d10-4f5d-8b5a-b5c47b9b33de",
   "metadata": {},
   "outputs": [
    {
     "data": {
      "application/vnd.jupyter.widget-view+json": {
       "model_id": "179b7b458a3b487b90b63b155ea45741",
       "version_major": 2,
       "version_minor": 0
      },
      "text/plain": [
       "interactive(children=(IntSlider(value=136, description='i', max=273), Output()), _dom_classes=('widget-interac…"
      ]
     },
     "metadata": {},
     "output_type": "display_data"
    }
   ],
   "source": [
    "browse_images(dfYesNoMiss)"
   ]
  },
  {
   "cell_type": "code",
   "execution_count": null,
   "id": "abe77e96-b583-42be-a754-eccf8b180c5e",
   "metadata": {},
   "outputs": [],
   "source": [
    "# "
   ]
  }
 ],
 "metadata": {
  "kernelspec": {
   "display_name": "Python 3 (ipykernel)",
   "language": "python",
   "name": "python3"
  },
  "language_info": {
   "codemirror_mode": {
    "name": "ipython",
    "version": 3
   },
   "file_extension": ".py",
   "mimetype": "text/x-python",
   "name": "python",
   "nbconvert_exporter": "python",
   "pygments_lexer": "ipython3",
   "version": "3.9.7"
  }
 },
 "nbformat": 4,
 "nbformat_minor": 5
}
